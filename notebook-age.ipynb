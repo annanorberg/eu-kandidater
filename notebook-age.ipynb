{
 "cells": [
  {
   "cell_type": "markdown",
   "metadata": {},
   "source": [
    "# Analys av åldersfördelningen bland EU-kandidaterna\n",
    "\n",
    "av [Anna Norberg](https://twitter.com/annanorberg)\n",
    "\n",
    "Grunddata kommer från Valmyndigheten och har bearbetats något innan den läses in här. Bland annat har åldern beräknats utifrån personnummer. Åldern gäller den 20 mars 2019.\n",
    "\n",
    "Resultatet av analysen har använts som underlag till en artikel som skickades ut till Nyhetsbyrån Sirens kunder den 22 mars 2019."
   ]
  },
  {
   "cell_type": "code",
   "execution_count": 45,
   "metadata": {},
   "outputs": [],
   "source": [
    "library(tidyr)\n",
    "library(dplyr)\n",
    "library(openxlsx)\n",
    "library(readxl)"
   ]
  },
  {
   "cell_type": "markdown",
   "metadata": {},
   "source": [
    "**Läs in Excelfilen.**"
   ]
  },
  {
   "cell_type": "code",
   "execution_count": 46,
   "metadata": {},
   "outputs": [],
   "source": [
    "df1 <- read_excel(\"data/raw-kandidater.xlsx\")"
   ]
  },
  {
   "cell_type": "markdown",
   "metadata": {},
   "source": [
    "**Hur ser det ut med antal kandidater på kommunnivå?**"
   ]
  },
  {
   "cell_type": "code",
   "execution_count": 50,
   "metadata": {},
   "outputs": [],
   "source": [
    "kommun <- df1 %>%\n",
    "group_by(Kommun) %>%\n",
    "summarize(\"Yngsta\" = min(`Ålder`), \n",
    "          \"Äldsta\" = max(`Ålder`), \n",
    "          \"Medelålder\" = round(mean(`Ålder`), 1), \n",
    "          \"Antal kandidater\" = sum(!is.na(Ålder)))"
   ]
  },
  {
   "cell_type": "code",
   "execution_count": 51,
   "metadata": {},
   "outputs": [
    {
     "data": {
      "text/html": [
       "<table>\n",
       "<thead><tr><th scope=col>Kommun</th><th scope=col>Yngsta</th><th scope=col>Äldsta</th><th scope=col>Medelålder</th><th scope=col>Antal kandidater</th></tr></thead>\n",
       "<tbody>\n",
       "\t<tr><td>Ale     </td><td>NA      </td><td>NA      </td><td>  NA    </td><td>0       </td></tr>\n",
       "\t<tr><td>Alingsås</td><td>45      </td><td>54      </td><td>49.7    </td><td>3       </td></tr>\n",
       "\t<tr><td>Alvesta </td><td>NA      </td><td>NA      </td><td>  NA    </td><td>0       </td></tr>\n",
       "\t<tr><td>Aneby   </td><td>NA      </td><td>NA      </td><td>  NA    </td><td>0       </td></tr>\n",
       "\t<tr><td>Arboga  </td><td>NA      </td><td>NA      </td><td>  NA    </td><td>0       </td></tr>\n",
       "\t<tr><td>Arjeplog</td><td>NA      </td><td>NA      </td><td>  NA    </td><td>0       </td></tr>\n",
       "</tbody>\n",
       "</table>\n"
      ],
      "text/latex": [
       "\\begin{tabular}{r|lllll}\n",
       " Kommun & Yngsta & Äldsta & Medelålder & Antal kandidater\\\\\n",
       "\\hline\n",
       "\t Ale      & NA       & NA       &   NA     & 0       \\\\\n",
       "\t Alingsås & 45       & 54       & 49.7     & 3       \\\\\n",
       "\t Alvesta  & NA       & NA       &   NA     & 0       \\\\\n",
       "\t Aneby    & NA       & NA       &   NA     & 0       \\\\\n",
       "\t Arboga   & NA       & NA       &   NA     & 0       \\\\\n",
       "\t Arjeplog & NA       & NA       &   NA     & 0       \\\\\n",
       "\\end{tabular}\n"
      ],
      "text/markdown": [
       "\n",
       "| Kommun | Yngsta | Äldsta | Medelålder | Antal kandidater |\n",
       "|---|---|---|---|---|\n",
       "| Ale      | NA       | NA       |   NA     | 0        |\n",
       "| Alingsås | 45       | 54       | 49.7     | 3        |\n",
       "| Alvesta  | NA       | NA       |   NA     | 0        |\n",
       "| Aneby    | NA       | NA       |   NA     | 0        |\n",
       "| Arboga   | NA       | NA       |   NA     | 0        |\n",
       "| Arjeplog | NA       | NA       |   NA     | 0        |\n",
       "\n"
      ],
      "text/plain": [
       "  Kommun   Yngsta Äldsta Medelålder Antal kandidater\n",
       "1 Ale      NA     NA       NA       0               \n",
       "2 Alingsås 45     54     49.7       3               \n",
       "3 Alvesta  NA     NA       NA       0               \n",
       "4 Aneby    NA     NA       NA       0               \n",
       "5 Arboga   NA     NA       NA       0               \n",
       "6 Arjeplog NA     NA       NA       0               "
      ]
     },
     "metadata": {},
     "output_type": "display_data"
    }
   ],
   "source": [
    "head(kommun)"
   ]
  },
  {
   "cell_type": "markdown",
   "metadata": {},
   "source": [
    "**Sortera efter antal kandidater per kommun.**"
   ]
  },
  {
   "cell_type": "code",
   "execution_count": 52,
   "metadata": {},
   "outputs": [
    {
     "data": {
      "text/html": [
       "<table>\n",
       "<thead><tr><th scope=col>Kommun</th><th scope=col>Yngsta</th><th scope=col>Äldsta</th><th scope=col>Medelålder</th><th scope=col>Antal kandidater</th></tr></thead>\n",
       "<tbody>\n",
       "\t<tr><td>Stockholm</td><td>19       </td><td>85       </td><td>42.8     </td><td>48       </td></tr>\n",
       "\t<tr><td>Göteborg </td><td>20       </td><td>77       </td><td>44.4     </td><td>25       </td></tr>\n",
       "\t<tr><td>Malmö    </td><td>19       </td><td>68       </td><td>39.6     </td><td>21       </td></tr>\n",
       "\t<tr><td>Uppsala  </td><td>22       </td><td>54       </td><td>39.5     </td><td>11       </td></tr>\n",
       "\t<tr><td>Lund     </td><td>24       </td><td>47       </td><td>31.3     </td><td>10       </td></tr>\n",
       "\t<tr><td>Umeå     </td><td>22       </td><td>73       </td><td>40.5     </td><td>10       </td></tr>\n",
       "</tbody>\n",
       "</table>\n"
      ],
      "text/latex": [
       "\\begin{tabular}{r|lllll}\n",
       " Kommun & Yngsta & Äldsta & Medelålder & Antal kandidater\\\\\n",
       "\\hline\n",
       "\t Stockholm & 19        & 85        & 42.8      & 48       \\\\\n",
       "\t Göteborg  & 20        & 77        & 44.4      & 25       \\\\\n",
       "\t Malmö     & 19        & 68        & 39.6      & 21       \\\\\n",
       "\t Uppsala   & 22        & 54        & 39.5      & 11       \\\\\n",
       "\t Lund      & 24        & 47        & 31.3      & 10       \\\\\n",
       "\t Umeå      & 22        & 73        & 40.5      & 10       \\\\\n",
       "\\end{tabular}\n"
      ],
      "text/markdown": [
       "\n",
       "| Kommun | Yngsta | Äldsta | Medelålder | Antal kandidater |\n",
       "|---|---|---|---|---|\n",
       "| Stockholm | 19        | 85        | 42.8      | 48        |\n",
       "| Göteborg  | 20        | 77        | 44.4      | 25        |\n",
       "| Malmö     | 19        | 68        | 39.6      | 21        |\n",
       "| Uppsala   | 22        | 54        | 39.5      | 11        |\n",
       "| Lund      | 24        | 47        | 31.3      | 10        |\n",
       "| Umeå      | 22        | 73        | 40.5      | 10        |\n",
       "\n"
      ],
      "text/plain": [
       "  Kommun    Yngsta Äldsta Medelålder Antal kandidater\n",
       "1 Stockholm 19     85     42.8       48              \n",
       "2 Göteborg  20     77     44.4       25              \n",
       "3 Malmö     19     68     39.6       21              \n",
       "4 Uppsala   22     54     39.5       11              \n",
       "5 Lund      24     47     31.3       10              \n",
       "6 Umeå      22     73     40.5       10              "
      ]
     },
     "metadata": {},
     "output_type": "display_data"
    }
   ],
   "source": [
    "kommun <- arrange(kommun, desc(`Antal kandidater`))\n",
    "head(kommun)"
   ]
  },
  {
   "cell_type": "markdown",
   "metadata": {},
   "source": [
    "**Hur ser åldersfördelningen ut på länsnivå?**"
   ]
  },
  {
   "cell_type": "code",
   "execution_count": 53,
   "metadata": {},
   "outputs": [],
   "source": [
    "lan <- df1 %>%\n",
    "group_by(Län) %>% \n",
    "summarize(\"Yngsta\" = min(`Ålder`, na.rm = TRUE), \n",
    "          \"Äldsta\" = max(`Ålder`, na.rm = TRUE), \n",
    "          \"Medelålder\" = round(mean(`Ålder`, na.rm = TRUE), 1), \n",
    "          \"Antal kandidater\" = sum(!is.na(Ålder)))"
   ]
  },
  {
   "cell_type": "markdown",
   "metadata": {},
   "source": [
    "**Sortera efter medelålder.**"
   ]
  },
  {
   "cell_type": "code",
   "execution_count": 54,
   "metadata": {},
   "outputs": [
    {
     "data": {
      "text/html": [
       "<table>\n",
       "<thead><tr><th scope=col>Län</th><th scope=col>Yngsta</th><th scope=col>Äldsta</th><th scope=col>Medelålder</th><th scope=col>Antal kandidater</th></tr></thead>\n",
       "<tbody>\n",
       "\t<tr><td>Ingen svensk adress</td><td>57                 </td><td>57                 </td><td>57.0               </td><td> 1                 </td></tr>\n",
       "\t<tr><td>Västernorrlands län</td><td>39                 </td><td>65                 </td><td>50.4               </td><td>10                 </td></tr>\n",
       "\t<tr><td>Dalarnas län       </td><td>33                 </td><td>63                 </td><td>48.2               </td><td>12                 </td></tr>\n",
       "\t<tr><td>Östergötlands län  </td><td>27                 </td><td>75                 </td><td>47.5               </td><td>15                 </td></tr>\n",
       "\t<tr><td>Jämtlands län      </td><td>33                 </td><td>57                 </td><td>47.0               </td><td> 8                 </td></tr>\n",
       "\t<tr><td>Örebro län         </td><td>24                 </td><td>58                 </td><td>46.8               </td><td> 9                 </td></tr>\n",
       "</tbody>\n",
       "</table>\n"
      ],
      "text/latex": [
       "\\begin{tabular}{r|lllll}\n",
       " Län & Yngsta & Äldsta & Medelålder & Antal kandidater\\\\\n",
       "\\hline\n",
       "\t Ingen svensk adress & 57                  & 57                  & 57.0                &  1                 \\\\\n",
       "\t Västernorrlands län & 39                  & 65                  & 50.4                & 10                 \\\\\n",
       "\t Dalarnas län        & 33                  & 63                  & 48.2                & 12                 \\\\\n",
       "\t Östergötlands län   & 27                  & 75                  & 47.5                & 15                 \\\\\n",
       "\t Jämtlands län       & 33                  & 57                  & 47.0                &  8                 \\\\\n",
       "\t Örebro län          & 24                  & 58                  & 46.8                &  9                 \\\\\n",
       "\\end{tabular}\n"
      ],
      "text/markdown": [
       "\n",
       "| Län | Yngsta | Äldsta | Medelålder | Antal kandidater |\n",
       "|---|---|---|---|---|\n",
       "| Ingen svensk adress | 57                  | 57                  | 57.0                |  1                  |\n",
       "| Västernorrlands län | 39                  | 65                  | 50.4                | 10                  |\n",
       "| Dalarnas län        | 33                  | 63                  | 48.2                | 12                  |\n",
       "| Östergötlands län   | 27                  | 75                  | 47.5                | 15                  |\n",
       "| Jämtlands län       | 33                  | 57                  | 47.0                |  8                  |\n",
       "| Örebro län          | 24                  | 58                  | 46.8                |  9                  |\n",
       "\n"
      ],
      "text/plain": [
       "  Län                 Yngsta Äldsta Medelålder Antal kandidater\n",
       "1 Ingen svensk adress 57     57     57.0        1              \n",
       "2 Västernorrlands län 39     65     50.4       10              \n",
       "3 Dalarnas län        33     63     48.2       12              \n",
       "4 Östergötlands län   27     75     47.5       15              \n",
       "5 Jämtlands län       33     57     47.0        8              \n",
       "6 Örebro län          24     58     46.8        9              "
      ]
     },
     "metadata": {},
     "output_type": "display_data"
    }
   ],
   "source": [
    "lan <- arrange(lan, desc(Medelålder))\n",
    "head(lan)"
   ]
  },
  {
   "cell_type": "markdown",
   "metadata": {},
   "source": [
    "**Vilket parti har de äldsta och yngsta kandidaterna?**"
   ]
  },
  {
   "cell_type": "code",
   "execution_count": 55,
   "metadata": {},
   "outputs": [],
   "source": [
    "parti <- df1 %>% \n",
    "group_by(Parti) %>%\n",
    "summarize(\"Yngsta\" = min(`Ålder`), \n",
    "          \"Äldsta\" = max(`Ålder`), \n",
    "          \"Medelålder\" = round(mean(`Ålder`), 1), \n",
    "          \"Antal kandidater\" = sum(!is.na(Ålder)))"
   ]
  },
  {
   "cell_type": "markdown",
   "metadata": {},
   "source": [
    "**Sortera efter medelålder.**"
   ]
  },
  {
   "cell_type": "code",
   "execution_count": 56,
   "metadata": {},
   "outputs": [
    {
     "data": {
      "text/html": [
       "<table>\n",
       "<thead><tr><th scope=col>Parti</th><th scope=col>Yngsta</th><th scope=col>Äldsta</th><th scope=col>Medelålder</th><th scope=col>Antal kandidater</th></tr></thead>\n",
       "<tbody>\n",
       "\t<tr><td>SKÅNEPARTIET              </td><td>75                        </td><td>75                        </td><td>75.0                      </td><td> 1                        </td></tr>\n",
       "\t<tr><td>Medborgerlig Samling      </td><td>39                        </td><td>66                        </td><td>50.5                      </td><td>13                        </td></tr>\n",
       "\t<tr><td>Klassiskt liberala partiet</td><td>34                        </td><td>65                        </td><td>50.0                      </td><td> 5                        </td></tr>\n",
       "\t<tr><td>Feministiskt initiativ    </td><td>26                        </td><td>62                        </td><td>47.8                      </td><td> 5                        </td></tr>\n",
       "\t<tr><td>Djurens parti             </td><td>31                        </td><td>64                        </td><td>46.8                      </td><td> 5                        </td></tr>\n",
       "\t<tr><td>Kristdemokraterna         </td><td>18                        </td><td>78                        </td><td>45.7                      </td><td>43                        </td></tr>\n",
       "</tbody>\n",
       "</table>\n"
      ],
      "text/latex": [
       "\\begin{tabular}{r|lllll}\n",
       " Parti & Yngsta & Äldsta & Medelålder & Antal kandidater\\\\\n",
       "\\hline\n",
       "\t SKÅNEPARTIET               & 75                         & 75                         & 75.0                       &  1                        \\\\\n",
       "\t Medborgerlig Samling       & 39                         & 66                         & 50.5                       & 13                        \\\\\n",
       "\t Klassiskt liberala partiet & 34                         & 65                         & 50.0                       &  5                        \\\\\n",
       "\t Feministiskt initiativ     & 26                         & 62                         & 47.8                       &  5                        \\\\\n",
       "\t Djurens parti              & 31                         & 64                         & 46.8                       &  5                        \\\\\n",
       "\t Kristdemokraterna          & 18                         & 78                         & 45.7                       & 43                        \\\\\n",
       "\\end{tabular}\n"
      ],
      "text/markdown": [
       "\n",
       "| Parti | Yngsta | Äldsta | Medelålder | Antal kandidater |\n",
       "|---|---|---|---|---|\n",
       "| SKÅNEPARTIET               | 75                         | 75                         | 75.0                       |  1                         |\n",
       "| Medborgerlig Samling       | 39                         | 66                         | 50.5                       | 13                         |\n",
       "| Klassiskt liberala partiet | 34                         | 65                         | 50.0                       |  5                         |\n",
       "| Feministiskt initiativ     | 26                         | 62                         | 47.8                       |  5                         |\n",
       "| Djurens parti              | 31                         | 64                         | 46.8                       |  5                         |\n",
       "| Kristdemokraterna          | 18                         | 78                         | 45.7                       | 43                         |\n",
       "\n"
      ],
      "text/plain": [
       "  Parti                      Yngsta Äldsta Medelålder Antal kandidater\n",
       "1 SKÅNEPARTIET               75     75     75.0        1              \n",
       "2 Medborgerlig Samling       39     66     50.5       13              \n",
       "3 Klassiskt liberala partiet 34     65     50.0        5              \n",
       "4 Feministiskt initiativ     26     62     47.8        5              \n",
       "5 Djurens parti              31     64     46.8        5              \n",
       "6 Kristdemokraterna          18     78     45.7       43              "
      ]
     },
     "metadata": {},
     "output_type": "display_data"
    }
   ],
   "source": [
    "parti <- arrange(parti, desc(Medelålder))\n",
    "head(parti)"
   ]
  },
  {
   "cell_type": "markdown",
   "metadata": {},
   "source": [
    "**Hur ser det ut totalt?**"
   ]
  },
  {
   "cell_type": "code",
   "execution_count": 57,
   "metadata": {},
   "outputs": [
    {
     "data": {
      "text/html": [
       "<table>\n",
       "<thead><tr><th scope=col>Yngsta</th><th scope=col>Äldsta</th><th scope=col>Medelålder</th><th scope=col>Antal kandidater</th></tr></thead>\n",
       "<tbody>\n",
       "\t<tr><td>18  </td><td>85  </td><td>43.5</td><td>420 </td></tr>\n",
       "</tbody>\n",
       "</table>\n"
      ],
      "text/latex": [
       "\\begin{tabular}{r|llll}\n",
       " Yngsta & Äldsta & Medelålder & Antal kandidater\\\\\n",
       "\\hline\n",
       "\t 18   & 85   & 43.5 & 420 \\\\\n",
       "\\end{tabular}\n"
      ],
      "text/markdown": [
       "\n",
       "| Yngsta | Äldsta | Medelålder | Antal kandidater |\n",
       "|---|---|---|---|\n",
       "| 18   | 85   | 43.5 | 420  |\n",
       "\n"
      ],
      "text/plain": [
       "  Yngsta Äldsta Medelålder Antal kandidater\n",
       "1 18     85     43.5       420             "
      ]
     },
     "metadata": {},
     "output_type": "display_data"
    }
   ],
   "source": [
    "riket <- df1 %>%\n",
    "summarize(\"Yngsta\" = min(`Ålder`, na.rm = TRUE), \n",
    "          \"Äldsta\" = max(`Ålder`, na.rm = TRUE), \n",
    "          \"Medelålder\" = round(mean(`Ålder`, na.rm = TRUE), 1), \n",
    "          \"Antal kandidater\" = sum(!is.na(Ålder)))\n",
    "head(riket)"
   ]
  },
  {
   "cell_type": "markdown",
   "metadata": {},
   "source": [
    "**Sortera rådata efter län och kommun.**"
   ]
  },
  {
   "cell_type": "code",
   "execution_count": 58,
   "metadata": {},
   "outputs": [],
   "source": [
    "df1 <- arrange(df1, Län, Kommun)"
   ]
  },
  {
   "cell_type": "markdown",
   "metadata": {},
   "source": [
    "**Gör ny Excelfil med alla tabeller.**"
   ]
  },
  {
   "cell_type": "code",
   "execution_count": 62,
   "metadata": {},
   "outputs": [],
   "source": [
    "wb<-createWorkbook()\n",
    "\n",
    "addWorksheet(wb, \"Per län\")\n",
    "addWorksheet(wb, \"Per kommun\")\n",
    "addWorksheet(wb, \"Per parti\")\n",
    "addWorksheet(wb, \"Riket\")\n",
    "addWorksheet(wb, \"Rådata\")\n",
    "\n",
    "writeData(wb, sheet=\"Per län\", lan, startCol=1, startRow=5, rowNames=FALSE)\n",
    "writeData(wb, sheet=\"Per kommun\", kommun, startCol=1, startRow=5, rowNames=FALSE)\n",
    "writeData(wb, sheet=\"Per parti\", parti, startCol=1, startRow=5, rowNames=FALSE)\n",
    "writeData(wb, sheet=\"Riket\", riket, startCol=1, startRow=5, rowNames=FALSE)\n",
    "writeData(wb, sheet=\"Rådata\", df1, startCol=1, startRow=1, rowNames=FALSE)\n",
    "\n",
    "titleStyle <- createStyle(fontSize=15, halign=\"left\", textDecoration=\"bold\", numFmt=\"@\")\n",
    "titlecells <- expand.grid(row=1:3, col=1)\n",
    "\n",
    "addStyle(wb, \"Per län\", rows=titlecells$row, cols=titlecells$col, style=titleStyle)\n",
    "addStyle(wb, \"Per kommun\", rows=titlecells$row, cols=titlecells$col, style=titleStyle)\n",
    "addStyle(wb, \"Per parti\", rows=titlecells$row, cols=titlecells$col, style=titleStyle)\n",
    "addStyle(wb, \"Riket\", rows=titlecells$row, cols=titlecells$col, style=titleStyle)\n",
    "\n",
    "head1 <- c(\"EU-kandidaternas medelålder per län\", \"Källa: Valmyndigheten.\", \"Sorterat efter medelålder.\")\n",
    "head2 <- c(\"EU-kandidaternas medelålder per kommun\", \"Källa: Valmyndigheten.\", \"Sorterat efter antal kandidater.\")\n",
    "head3 <- c(\"EU-kandidaternas medelålder per parti\", \"Källa: Valmyndigheten.\", \"Sorterat efter medelålder.\")\n",
    "head4 <- c(\"EU-kandidaternas medelålder\", \"Källa: Valmyndigheten.\")\n",
    "\n",
    "writeData(wb, sheet=\"Per län\", head1)\n",
    "writeData(wb, sheet=\"Per kommun\", head2)\n",
    "writeData(wb, sheet=\"Per parti\", head3)\n",
    "writeData(wb, sheet=\"Riket\", head4)\n",
    "\n",
    "headerStyle <- createStyle(fontSize=12, halign=\"left\", textDecoration=\"bold\")\n",
    "addStyle(wb, 1, headerStyle, rows=5, cols=1:5, gridExpand=TRUE)\n",
    "addStyle(wb, 2, headerStyle, rows=5, cols=1:5, gridExpand=TRUE)\n",
    "addStyle(wb, 3, headerStyle, rows=5, cols=1:5, gridExpand=TRUE)\n",
    "addStyle(wb, 4, headerStyle, rows=5, cols=1:5, gridExpand=TRUE)\n",
    "\n",
    "nrStyle <- createStyle(numFmt=\"0\")\n",
    "addStyle(wb, 1, style=nrStyle, cols=5, rows=6:296, gridExpand=TRUE)\n",
    "addStyle(wb, 2, style=nrStyle, cols=5, rows=6:296, gridExpand=TRUE)\n",
    "addStyle(wb, 3, style=nrStyle, cols=5, rows=6:296, gridExpand=TRUE)\n",
    "addStyle(wb, 4, style=nrStyle, cols=5, rows=6:296, gridExpand=TRUE)\n",
    "addStyle(wb, 5, style=nrStyle, cols=5, rows=6:296, gridExpand=TRUE)\n",
    "\n",
    "setColWidths(wb, sheet=1, cols=1:5, widths=\"25\", ignoreMergedCells=TRUE)\n",
    "setColWidths(wb, sheet=2, cols=1:5, widths=\"25\", ignoreMergedCells=TRUE)\n",
    "setColWidths(wb, sheet=3, cols=1:5, widths=\"25\", ignoreMergedCells=TRUE)\n",
    "setColWidths(wb, sheet=4, cols=1:6, widths=\"25\", ignoreMergedCells=TRUE)\n",
    "setColWidths(wb, sheet=5, cols=1:6, widths=\"25\", ignoreMergedCells=TRUE)\n",
    "\n",
    "saveWorkbook(wb, \"output/kandidaterage.xlsx\", overwrite=TRUE)"
   ]
  },
  {
   "cell_type": "code",
   "execution_count": null,
   "metadata": {},
   "outputs": [],
   "source": []
  }
 ],
 "metadata": {
  "kernelspec": {
   "display_name": "R",
   "language": "R",
   "name": "ir"
  },
  "language_info": {
   "codemirror_mode": "r",
   "file_extension": ".r",
   "mimetype": "text/x-r-source",
   "name": "R",
   "pygments_lexer": "r",
   "version": "3.5.1"
  }
 },
 "nbformat": 4,
 "nbformat_minor": 2
}
