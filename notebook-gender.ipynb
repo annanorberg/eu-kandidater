{
 "cells": [
  {
   "cell_type": "markdown",
   "metadata": {},
   "source": [
    "# Analys av könsfördelningen bland EU-kandidaterna\n",
    "av [Anna Norberg](https://twitter.com/annanorberg)\n",
    "\n",
    "Grunddata kommer från Valmyndigheten och har bearbetats något innan den läses in här. Bland annat har kolumnen \"Kön\" lagts till och beräknats utifrån personnummer. Om tredje siffran i de fyra sista siffrorna i personnumret är jämn har personen tilldelats könet \"kvinna\" och beteckningen \"K\" och om siffran är ojämn har personen tilldelats könet \"man\" förkortat \"M\".  \n",
    "\n",
    "Resultatet av analysen har använts som underlag till en artikel som skickades ut till Nyhetsbyrån Sirens kunder den 25 mars 2019."
   ]
  },
  {
   "cell_type": "code",
   "execution_count": 12,
   "metadata": {},
   "outputs": [],
   "source": [
    "library(tidyr)\n",
    "library(dplyr)\n",
    "library(openxlsx)\n",
    "library(readxl)"
   ]
  },
  {
   "cell_type": "markdown",
   "metadata": {},
   "source": [
    "**Läs in Excelfilen.**"
   ]
  },
  {
   "cell_type": "code",
   "execution_count": 13,
   "metadata": {},
   "outputs": [
    {
     "data": {
      "text/html": [
       "<table>\n",
       "<thead><tr><th scope=col>Län</th><th scope=col>Kommun</th><th scope=col>Parti</th><th scope=col>Namn</th><th scope=col>Kön</th></tr></thead>\n",
       "<tbody>\n",
       "\t<tr><td>Stockholms län                    </td><td>Stockholm                         </td><td>Liberalerna (tidigare Folkpartiet)</td><td>Abdukadir Salad Ali               </td><td>M                                 </td></tr>\n",
       "\t<tr><td>Södermanlands län                 </td><td>Katrineholm                       </td><td>Arbetarepartiet-Socialdemokraterna</td><td>Abdulahi Abdulle Hassan           </td><td>M                                 </td></tr>\n",
       "\t<tr><td>Stockholms län                    </td><td>Stockholm                         </td><td>Centerpartiet                     </td><td>Abir Al-Sahlani                   </td><td>K                                 </td></tr>\n",
       "\t<tr><td>Stockholms län                    </td><td>Lidingö                           </td><td>Alternativ för Sverige            </td><td>Adam Berg                         </td><td>M                                 </td></tr>\n",
       "\t<tr><td>Blekinge län                      </td><td>Karlskrona                        </td><td>Kristdemokraterna                 </td><td>Adam Jansson                      </td><td>M                                 </td></tr>\n",
       "\t<tr><td>Gävleborgs län                    </td><td>Hudiksvall                        </td><td>Moderaterna                       </td><td>Adam Rydstedt                     </td><td>M                                 </td></tr>\n",
       "</tbody>\n",
       "</table>\n"
      ],
      "text/latex": [
       "\\begin{tabular}{r|lllll}\n",
       " Län & Kommun & Parti & Namn & Kön\\\\\n",
       "\\hline\n",
       "\t Stockholms län                     & Stockholm                          & Liberalerna (tidigare Folkpartiet) & Abdukadir Salad Ali                & M                                 \\\\\n",
       "\t Södermanlands län                  & Katrineholm                        & Arbetarepartiet-Socialdemokraterna & Abdulahi Abdulle Hassan            & M                                 \\\\\n",
       "\t Stockholms län                     & Stockholm                          & Centerpartiet                      & Abir Al-Sahlani                    & K                                 \\\\\n",
       "\t Stockholms län                     & Lidingö                            & Alternativ för Sverige             & Adam Berg                          & M                                 \\\\\n",
       "\t Blekinge län                       & Karlskrona                         & Kristdemokraterna                  & Adam Jansson                       & M                                 \\\\\n",
       "\t Gävleborgs län                     & Hudiksvall                         & Moderaterna                        & Adam Rydstedt                      & M                                 \\\\\n",
       "\\end{tabular}\n"
      ],
      "text/markdown": [
       "\n",
       "| Län | Kommun | Parti | Namn | Kön |\n",
       "|---|---|---|---|---|\n",
       "| Stockholms län                     | Stockholm                          | Liberalerna (tidigare Folkpartiet) | Abdukadir Salad Ali                | M                                  |\n",
       "| Södermanlands län                  | Katrineholm                        | Arbetarepartiet-Socialdemokraterna | Abdulahi Abdulle Hassan            | M                                  |\n",
       "| Stockholms län                     | Stockholm                          | Centerpartiet                      | Abir Al-Sahlani                    | K                                  |\n",
       "| Stockholms län                     | Lidingö                            | Alternativ för Sverige             | Adam Berg                          | M                                  |\n",
       "| Blekinge län                       | Karlskrona                         | Kristdemokraterna                  | Adam Jansson                       | M                                  |\n",
       "| Gävleborgs län                     | Hudiksvall                         | Moderaterna                        | Adam Rydstedt                      | M                                  |\n",
       "\n"
      ],
      "text/plain": [
       "  Län               Kommun      Parti                             \n",
       "1 Stockholms län    Stockholm   Liberalerna (tidigare Folkpartiet)\n",
       "2 Södermanlands län Katrineholm Arbetarepartiet-Socialdemokraterna\n",
       "3 Stockholms län    Stockholm   Centerpartiet                     \n",
       "4 Stockholms län    Lidingö     Alternativ för Sverige            \n",
       "5 Blekinge län      Karlskrona  Kristdemokraterna                 \n",
       "6 Gävleborgs län    Hudiksvall  Moderaterna                       \n",
       "  Namn                    Kön\n",
       "1 Abdukadir Salad Ali     M  \n",
       "2 Abdulahi Abdulle Hassan M  \n",
       "3 Abir Al-Sahlani         K  \n",
       "4 Adam Berg               M  \n",
       "5 Adam Jansson            M  \n",
       "6 Adam Rydstedt           M  "
      ]
     },
     "metadata": {},
     "output_type": "display_data"
    }
   ],
   "source": [
    "df1 <- read_excel(\"data/raw-kandidater2.xlsx\", sheet=1)\n",
    "head(df1)"
   ]
  },
  {
   "cell_type": "markdown",
   "metadata": {},
   "source": [
    "**Beräkna andel kvinnor och andel män bland kandidaterna på kommunnivå.**"
   ]
  },
  {
   "cell_type": "code",
   "execution_count": 25,
   "metadata": {},
   "outputs": [],
   "source": [
    "kommun <- df1 %>%  \n",
    "group_by(Kommun) %>% \n",
    "summarize(\"Antal kvinnor\"=sum(Kön==\"K\"),\n",
    "          \"Antal män\"=sum(Kön==\"M\"),\n",
    "          \"Totalt\"=sum(Kön==\"K\"|Kön==\"M\")) %>% \n",
    "    mutate(`Andel kvinnor (%)`=round((`Antal kvinnor`/Totalt)*100),\n",
    "           `Andel män (%)`=round((`Antal män`/Totalt)*100))"
   ]
  },
  {
   "cell_type": "code",
   "execution_count": 26,
   "metadata": {},
   "outputs": [
    {
     "data": {
      "text/html": [
       "<table>\n",
       "<thead><tr><th scope=col>Kommun</th><th scope=col>Antal kvinnor</th><th scope=col>Antal män</th><th scope=col>Totalt</th><th scope=col>Andel kvinnor (%)</th><th scope=col>Andel män (%)</th></tr></thead>\n",
       "<tbody>\n",
       "\t<tr><td>Ale     </td><td>NA      </td><td>NA      </td><td>NA      </td><td>NA      </td><td>NA      </td></tr>\n",
       "\t<tr><td>Alingsås</td><td> 2      </td><td> 1      </td><td> 3      </td><td>67      </td><td>33      </td></tr>\n",
       "\t<tr><td>Alvesta </td><td>NA      </td><td>NA      </td><td>NA      </td><td>NA      </td><td>NA      </td></tr>\n",
       "\t<tr><td>Aneby   </td><td>NA      </td><td>NA      </td><td>NA      </td><td>NA      </td><td>NA      </td></tr>\n",
       "\t<tr><td>Arboga  </td><td>NA      </td><td>NA      </td><td>NA      </td><td>NA      </td><td>NA      </td></tr>\n",
       "\t<tr><td>Arjeplog</td><td>NA      </td><td>NA      </td><td>NA      </td><td>NA      </td><td>NA      </td></tr>\n",
       "</tbody>\n",
       "</table>\n"
      ],
      "text/latex": [
       "\\begin{tabular}{r|llllll}\n",
       " Kommun & Antal kvinnor & Antal män & Totalt & Andel kvinnor (\\%) & Andel män (\\%)\\\\\n",
       "\\hline\n",
       "\t Ale      & NA       & NA       & NA       & NA       & NA      \\\\\n",
       "\t Alingsås &  2       &  1       &  3       & 67       & 33      \\\\\n",
       "\t Alvesta  & NA       & NA       & NA       & NA       & NA      \\\\\n",
       "\t Aneby    & NA       & NA       & NA       & NA       & NA      \\\\\n",
       "\t Arboga   & NA       & NA       & NA       & NA       & NA      \\\\\n",
       "\t Arjeplog & NA       & NA       & NA       & NA       & NA      \\\\\n",
       "\\end{tabular}\n"
      ],
      "text/markdown": [
       "\n",
       "| Kommun | Antal kvinnor | Antal män | Totalt | Andel kvinnor (%) | Andel män (%) |\n",
       "|---|---|---|---|---|---|\n",
       "| Ale      | NA       | NA       | NA       | NA       | NA       |\n",
       "| Alingsås |  2       |  1       |  3       | 67       | 33       |\n",
       "| Alvesta  | NA       | NA       | NA       | NA       | NA       |\n",
       "| Aneby    | NA       | NA       | NA       | NA       | NA       |\n",
       "| Arboga   | NA       | NA       | NA       | NA       | NA       |\n",
       "| Arjeplog | NA       | NA       | NA       | NA       | NA       |\n",
       "\n"
      ],
      "text/plain": [
       "  Kommun   Antal kvinnor Antal män Totalt Andel kvinnor (%) Andel män (%)\n",
       "1 Ale      NA            NA        NA     NA                NA           \n",
       "2 Alingsås  2             1         3     67                33           \n",
       "3 Alvesta  NA            NA        NA     NA                NA           \n",
       "4 Aneby    NA            NA        NA     NA                NA           \n",
       "5 Arboga   NA            NA        NA     NA                NA           \n",
       "6 Arjeplog NA            NA        NA     NA                NA           "
      ]
     },
     "metadata": {},
     "output_type": "display_data"
    }
   ],
   "source": [
    "head(kommun)"
   ]
  },
  {
   "cell_type": "markdown",
   "metadata": {},
   "source": [
    "**Beräkna andel kvinnor och andel män bland kandidaterna på länsnivå.**"
   ]
  },
  {
   "cell_type": "code",
   "execution_count": 27,
   "metadata": {},
   "outputs": [],
   "source": [
    "lan <- df1 %>%\n",
    "group_by(Län) %>%\n",
    "summarize(\"Antal kvinnor\"=sum(Kön==\"K\", na.rm=TRUE), \n",
    "          \"Antal män\"=sum(Kön==\"M\", na.rm=TRUE), \n",
    "          \"Totalt\"=sum(Kön==\"K\"|Kön==\"M\", na.rm=TRUE)) %>% \n",
    "    mutate(`Andel kvinnor (%)`=round((`Antal kvinnor`/Totalt)*100), \n",
    "           `Andel män (%)`=round((`Antal män`/Totalt)*100))"
   ]
  },
  {
   "cell_type": "code",
   "execution_count": 28,
   "metadata": {},
   "outputs": [
    {
     "data": {
      "text/html": [
       "<table>\n",
       "<thead><tr><th scope=col>Län</th><th scope=col>Antal kvinnor</th><th scope=col>Antal män</th><th scope=col>Totalt</th><th scope=col>Andel kvinnor (%)</th><th scope=col>Andel män (%)</th></tr></thead>\n",
       "<tbody>\n",
       "\t<tr><td>Blekinge län       </td><td>3                  </td><td>4                  </td><td> 7                 </td><td>43                 </td><td> 57                </td></tr>\n",
       "\t<tr><td>Dalarnas län       </td><td>6                  </td><td>6                  </td><td>12                 </td><td>50                 </td><td> 50                </td></tr>\n",
       "\t<tr><td>Gotlands län       </td><td>6                  </td><td>3                  </td><td> 9                 </td><td>67                 </td><td> 33                </td></tr>\n",
       "\t<tr><td>Gävleborgs län     </td><td>3                  </td><td>7                  </td><td>10                 </td><td>30                 </td><td> 70                </td></tr>\n",
       "\t<tr><td>Hallands län       </td><td>3                  </td><td>6                  </td><td> 9                 </td><td>33                 </td><td> 67                </td></tr>\n",
       "\t<tr><td>Ingen svensk adress</td><td>0                  </td><td>1                  </td><td> 1                 </td><td> 0                 </td><td>100                </td></tr>\n",
       "</tbody>\n",
       "</table>\n"
      ],
      "text/latex": [
       "\\begin{tabular}{r|llllll}\n",
       " Län & Antal kvinnor & Antal män & Totalt & Andel kvinnor (\\%) & Andel män (\\%)\\\\\n",
       "\\hline\n",
       "\t Blekinge län        & 3                   & 4                   &  7                  & 43                  &  57                \\\\\n",
       "\t Dalarnas län        & 6                   & 6                   & 12                  & 50                  &  50                \\\\\n",
       "\t Gotlands län        & 6                   & 3                   &  9                  & 67                  &  33                \\\\\n",
       "\t Gävleborgs län      & 3                   & 7                   & 10                  & 30                  &  70                \\\\\n",
       "\t Hallands län        & 3                   & 6                   &  9                  & 33                  &  67                \\\\\n",
       "\t Ingen svensk adress & 0                   & 1                   &  1                  &  0                  & 100                \\\\\n",
       "\\end{tabular}\n"
      ],
      "text/markdown": [
       "\n",
       "| Län | Antal kvinnor | Antal män | Totalt | Andel kvinnor (%) | Andel män (%) |\n",
       "|---|---|---|---|---|---|\n",
       "| Blekinge län        | 3                   | 4                   |  7                  | 43                  |  57                 |\n",
       "| Dalarnas län        | 6                   | 6                   | 12                  | 50                  |  50                 |\n",
       "| Gotlands län        | 6                   | 3                   |  9                  | 67                  |  33                 |\n",
       "| Gävleborgs län      | 3                   | 7                   | 10                  | 30                  |  70                 |\n",
       "| Hallands län        | 3                   | 6                   |  9                  | 33                  |  67                 |\n",
       "| Ingen svensk adress | 0                   | 1                   |  1                  |  0                  | 100                 |\n",
       "\n"
      ],
      "text/plain": [
       "  Län                 Antal kvinnor Antal män Totalt Andel kvinnor (%)\n",
       "1 Blekinge län        3             4          7     43               \n",
       "2 Dalarnas län        6             6         12     50               \n",
       "3 Gotlands län        6             3          9     67               \n",
       "4 Gävleborgs län      3             7         10     30               \n",
       "5 Hallands län        3             6          9     33               \n",
       "6 Ingen svensk adress 0             1          1      0               \n",
       "  Andel män (%)\n",
       "1  57          \n",
       "2  50          \n",
       "3  33          \n",
       "4  70          \n",
       "5  67          \n",
       "6 100          "
      ]
     },
     "metadata": {},
     "output_type": "display_data"
    }
   ],
   "source": [
    "head(lan)"
   ]
  },
  {
   "cell_type": "markdown",
   "metadata": {},
   "source": [
    "**Sortera efter andel kvinnor.**"
   ]
  },
  {
   "cell_type": "code",
   "execution_count": 29,
   "metadata": {},
   "outputs": [
    {
     "data": {
      "text/html": [
       "<table>\n",
       "<thead><tr><th scope=col>Län</th><th scope=col>Antal kvinnor</th><th scope=col>Antal män</th><th scope=col>Totalt</th><th scope=col>Andel kvinnor (%)</th><th scope=col>Andel män (%)</th></tr></thead>\n",
       "<tbody>\n",
       "\t<tr><td>Västmanlands län </td><td> 7               </td><td>2                </td><td> 9               </td><td>78               </td><td>22               </td></tr>\n",
       "\t<tr><td>Gotlands län     </td><td> 6               </td><td>3                </td><td> 9               </td><td>67               </td><td>33               </td></tr>\n",
       "\t<tr><td>Örebro län       </td><td> 6               </td><td>3                </td><td> 9               </td><td>67               </td><td>33               </td></tr>\n",
       "\t<tr><td>Uppsala län      </td><td> 9               </td><td>7                </td><td>16               </td><td>56               </td><td>44               </td></tr>\n",
       "\t<tr><td>Västerbottens län</td><td>10               </td><td>8                </td><td>18               </td><td>56               </td><td>44               </td></tr>\n",
       "\t<tr><td>Södermanlands län</td><td> 6               </td><td>5                </td><td>11               </td><td>55               </td><td>45               </td></tr>\n",
       "</tbody>\n",
       "</table>\n"
      ],
      "text/latex": [
       "\\begin{tabular}{r|llllll}\n",
       " Län & Antal kvinnor & Antal män & Totalt & Andel kvinnor (\\%) & Andel män (\\%)\\\\\n",
       "\\hline\n",
       "\t Västmanlands län  &  7                & 2                 &  9                & 78                & 22               \\\\\n",
       "\t Gotlands län      &  6                & 3                 &  9                & 67                & 33               \\\\\n",
       "\t Örebro län        &  6                & 3                 &  9                & 67                & 33               \\\\\n",
       "\t Uppsala län       &  9                & 7                 & 16                & 56                & 44               \\\\\n",
       "\t Västerbottens län & 10                & 8                 & 18                & 56                & 44               \\\\\n",
       "\t Södermanlands län &  6                & 5                 & 11                & 55                & 45               \\\\\n",
       "\\end{tabular}\n"
      ],
      "text/markdown": [
       "\n",
       "| Län | Antal kvinnor | Antal män | Totalt | Andel kvinnor (%) | Andel män (%) |\n",
       "|---|---|---|---|---|---|\n",
       "| Västmanlands län  |  7                | 2                 |  9                | 78                | 22                |\n",
       "| Gotlands län      |  6                | 3                 |  9                | 67                | 33                |\n",
       "| Örebro län        |  6                | 3                 |  9                | 67                | 33                |\n",
       "| Uppsala län       |  9                | 7                 | 16                | 56                | 44                |\n",
       "| Västerbottens län | 10                | 8                 | 18                | 56                | 44                |\n",
       "| Södermanlands län |  6                | 5                 | 11                | 55                | 45                |\n",
       "\n"
      ],
      "text/plain": [
       "  Län               Antal kvinnor Antal män Totalt Andel kvinnor (%)\n",
       "1 Västmanlands län   7            2          9     78               \n",
       "2 Gotlands län       6            3          9     67               \n",
       "3 Örebro län         6            3          9     67               \n",
       "4 Uppsala län        9            7         16     56               \n",
       "5 Västerbottens län 10            8         18     56               \n",
       "6 Södermanlands län  6            5         11     55               \n",
       "  Andel män (%)\n",
       "1 22           \n",
       "2 33           \n",
       "3 33           \n",
       "4 44           \n",
       "5 44           \n",
       "6 45           "
      ]
     },
     "metadata": {},
     "output_type": "display_data"
    }
   ],
   "source": [
    "lan <- arrange(lan, desc(`Andel kvinnor (%)`))\n",
    "head(lan)"
   ]
  },
  {
   "cell_type": "markdown",
   "metadata": {},
   "source": [
    "**Beräkna andel kvinnor och andel män bland kandidaterna per parti.**"
   ]
  },
  {
   "cell_type": "code",
   "execution_count": 30,
   "metadata": {},
   "outputs": [],
   "source": [
    "parti <- df1 %>% \n",
    "group_by(Parti) %>% \n",
    "summarize(\"Antal kvinnor\"=sum(Kön==\"K\"), \n",
    "          \"Antal män\"=sum(Kön==\"M\"), \n",
    "          \"Totalt\"=sum(Kön==\"K\"|Kön==\"M\")) %>% \n",
    "    mutate(`Andel kvinnor (%)`=round((`Antal kvinnor`/Totalt)*100), \n",
    "           `Andel män (%)`=round((`Antal män`/Totalt)*100))  "
   ]
  },
  {
   "cell_type": "code",
   "execution_count": 31,
   "metadata": {},
   "outputs": [
    {
     "data": {
      "text/html": [
       "<table>\n",
       "<thead><tr><th scope=col>Parti</th><th scope=col>Antal kvinnor</th><th scope=col>Antal män</th><th scope=col>Totalt</th><th scope=col>Andel kvinnor (%)</th><th scope=col>Andel män (%)</th></tr></thead>\n",
       "<tbody>\n",
       "\t<tr><td>NA                                </td><td>NA                                </td><td>NA                                </td><td>NA                                </td><td>NA                                </td><td>NA                                </td></tr>\n",
       "\t<tr><td>Alternativ för Sverige            </td><td> 3                                </td><td> 7                                </td><td>10                                </td><td>30                                </td><td>70                                </td></tr>\n",
       "\t<tr><td>Arbetarepartiet-Socialdemokraterna</td><td>19                                </td><td>18                                </td><td>37                                </td><td>51                                </td><td>49                                </td></tr>\n",
       "\t<tr><td>Centerpartiet                     </td><td>23                                </td><td>34                                </td><td>57                                </td><td>40                                </td><td>60                                </td></tr>\n",
       "\t<tr><td>Direktdemokraterna                </td><td> 1                                </td><td> 9                                </td><td>10                                </td><td>10                                </td><td>90                                </td></tr>\n",
       "\t<tr><td>Djurens parti                     </td><td> 3                                </td><td> 2                                </td><td> 5                                </td><td>60                                </td><td>40                                </td></tr>\n",
       "</tbody>\n",
       "</table>\n"
      ],
      "text/latex": [
       "\\begin{tabular}{r|llllll}\n",
       " Parti & Antal kvinnor & Antal män & Totalt & Andel kvinnor (\\%) & Andel män (\\%)\\\\\n",
       "\\hline\n",
       "\t NA                                 & NA                                 & NA                                 & NA                                 & NA                                 & NA                                \\\\\n",
       "\t Alternativ för Sverige             &  3                                 &  7                                 & 10                                 & 30                                 & 70                                \\\\\n",
       "\t Arbetarepartiet-Socialdemokraterna & 19                                 & 18                                 & 37                                 & 51                                 & 49                                \\\\\n",
       "\t Centerpartiet                      & 23                                 & 34                                 & 57                                 & 40                                 & 60                                \\\\\n",
       "\t Direktdemokraterna                 &  1                                 &  9                                 & 10                                 & 10                                 & 90                                \\\\\n",
       "\t Djurens parti                      &  3                                 &  2                                 &  5                                 & 60                                 & 40                                \\\\\n",
       "\\end{tabular}\n"
      ],
      "text/markdown": [
       "\n",
       "| Parti | Antal kvinnor | Antal män | Totalt | Andel kvinnor (%) | Andel män (%) |\n",
       "|---|---|---|---|---|---|\n",
       "| NA                                 | NA                                 | NA                                 | NA                                 | NA                                 | NA                                 |\n",
       "| Alternativ för Sverige             |  3                                 |  7                                 | 10                                 | 30                                 | 70                                 |\n",
       "| Arbetarepartiet-Socialdemokraterna | 19                                 | 18                                 | 37                                 | 51                                 | 49                                 |\n",
       "| Centerpartiet                      | 23                                 | 34                                 | 57                                 | 40                                 | 60                                 |\n",
       "| Direktdemokraterna                 |  1                                 |  9                                 | 10                                 | 10                                 | 90                                 |\n",
       "| Djurens parti                      |  3                                 |  2                                 |  5                                 | 60                                 | 40                                 |\n",
       "\n"
      ],
      "text/plain": [
       "  Parti                              Antal kvinnor Antal män Totalt\n",
       "1 NA                                 NA            NA        NA    \n",
       "2 Alternativ för Sverige              3             7        10    \n",
       "3 Arbetarepartiet-Socialdemokraterna 19            18        37    \n",
       "4 Centerpartiet                      23            34        57    \n",
       "5 Direktdemokraterna                  1             9        10    \n",
       "6 Djurens parti                       3             2         5    \n",
       "  Andel kvinnor (%) Andel män (%)\n",
       "1 NA                NA           \n",
       "2 30                70           \n",
       "3 51                49           \n",
       "4 40                60           \n",
       "5 10                90           \n",
       "6 60                40           "
      ]
     },
     "metadata": {},
     "output_type": "display_data"
    }
   ],
   "source": [
    "head(parti)"
   ]
  },
  {
   "cell_type": "markdown",
   "metadata": {},
   "source": [
    "**Sortera efter andel kvinnor.**"
   ]
  },
  {
   "cell_type": "code",
   "execution_count": 32,
   "metadata": {},
   "outputs": [
    {
     "data": {
      "text/html": [
       "<table>\n",
       "<thead><tr><th scope=col>Parti</th><th scope=col>Antal kvinnor</th><th scope=col>Antal män</th><th scope=col>Totalt</th><th scope=col>Andel kvinnor (%)</th><th scope=col>Andel män (%)</th></tr></thead>\n",
       "<tbody>\n",
       "\t<tr><td>Vänsterpartiet                    </td><td>24                                </td><td>14                                </td><td>38                                </td><td>63                                </td><td>37                                </td></tr>\n",
       "\t<tr><td>Djurens parti                     </td><td> 3                                </td><td> 2                                </td><td> 5                                </td><td>60                                </td><td>40                                </td></tr>\n",
       "\t<tr><td>Feministiskt initiativ            </td><td> 3                                </td><td> 2                                </td><td> 5                                </td><td>60                                </td><td>40                                </td></tr>\n",
       "\t<tr><td>Miljöpartiet de gröna             </td><td>21                                </td><td>19                                </td><td>40                                </td><td>52                                </td><td>48                                </td></tr>\n",
       "\t<tr><td>Sverigedemokraterna               </td><td>15                                </td><td>14                                </td><td>29                                </td><td>52                                </td><td>48                                </td></tr>\n",
       "\t<tr><td>Arbetarepartiet-Socialdemokraterna</td><td>19                                </td><td>18                                </td><td>37                                </td><td>51                                </td><td>49                                </td></tr>\n",
       "</tbody>\n",
       "</table>\n"
      ],
      "text/latex": [
       "\\begin{tabular}{r|llllll}\n",
       " Parti & Antal kvinnor & Antal män & Totalt & Andel kvinnor (\\%) & Andel män (\\%)\\\\\n",
       "\\hline\n",
       "\t Vänsterpartiet                     & 24                                 & 14                                 & 38                                 & 63                                 & 37                                \\\\\n",
       "\t Djurens parti                      &  3                                 &  2                                 &  5                                 & 60                                 & 40                                \\\\\n",
       "\t Feministiskt initiativ             &  3                                 &  2                                 &  5                                 & 60                                 & 40                                \\\\\n",
       "\t Miljöpartiet de gröna              & 21                                 & 19                                 & 40                                 & 52                                 & 48                                \\\\\n",
       "\t Sverigedemokraterna                & 15                                 & 14                                 & 29                                 & 52                                 & 48                                \\\\\n",
       "\t Arbetarepartiet-Socialdemokraterna & 19                                 & 18                                 & 37                                 & 51                                 & 49                                \\\\\n",
       "\\end{tabular}\n"
      ],
      "text/markdown": [
       "\n",
       "| Parti | Antal kvinnor | Antal män | Totalt | Andel kvinnor (%) | Andel män (%) |\n",
       "|---|---|---|---|---|---|\n",
       "| Vänsterpartiet                     | 24                                 | 14                                 | 38                                 | 63                                 | 37                                 |\n",
       "| Djurens parti                      |  3                                 |  2                                 |  5                                 | 60                                 | 40                                 |\n",
       "| Feministiskt initiativ             |  3                                 |  2                                 |  5                                 | 60                                 | 40                                 |\n",
       "| Miljöpartiet de gröna              | 21                                 | 19                                 | 40                                 | 52                                 | 48                                 |\n",
       "| Sverigedemokraterna                | 15                                 | 14                                 | 29                                 | 52                                 | 48                                 |\n",
       "| Arbetarepartiet-Socialdemokraterna | 19                                 | 18                                 | 37                                 | 51                                 | 49                                 |\n",
       "\n"
      ],
      "text/plain": [
       "  Parti                              Antal kvinnor Antal män Totalt\n",
       "1 Vänsterpartiet                     24            14        38    \n",
       "2 Djurens parti                       3             2         5    \n",
       "3 Feministiskt initiativ              3             2         5    \n",
       "4 Miljöpartiet de gröna              21            19        40    \n",
       "5 Sverigedemokraterna                15            14        29    \n",
       "6 Arbetarepartiet-Socialdemokraterna 19            18        37    \n",
       "  Andel kvinnor (%) Andel män (%)\n",
       "1 63                37           \n",
       "2 60                40           \n",
       "3 60                40           \n",
       "4 52                48           \n",
       "5 52                48           \n",
       "6 51                49           "
      ]
     },
     "metadata": {},
     "output_type": "display_data"
    }
   ],
   "source": [
    "parti <- arrange(parti, desc(`Andel kvinnor (%)`))\n",
    "head(parti)"
   ]
  },
  {
   "cell_type": "markdown",
   "metadata": {},
   "source": [
    "**Hur ser det ut totalt sett?**"
   ]
  },
  {
   "cell_type": "code",
   "execution_count": 33,
   "metadata": {},
   "outputs": [
    {
     "data": {
      "text/html": [
       "<table>\n",
       "<thead><tr><th scope=col>Antal kvinnor</th><th scope=col>Antal män</th><th scope=col>Totalt</th><th scope=col>Andel kvinnor (%)</th><th scope=col>Andel män (%)</th></tr></thead>\n",
       "<tbody>\n",
       "\t<tr><td>191</td><td>229</td><td>420</td><td>45 </td><td>55 </td></tr>\n",
       "</tbody>\n",
       "</table>\n"
      ],
      "text/latex": [
       "\\begin{tabular}{r|lllll}\n",
       " Antal kvinnor & Antal män & Totalt & Andel kvinnor (\\%) & Andel män (\\%)\\\\\n",
       "\\hline\n",
       "\t 191 & 229 & 420 & 45  & 55 \\\\\n",
       "\\end{tabular}\n"
      ],
      "text/markdown": [
       "\n",
       "| Antal kvinnor | Antal män | Totalt | Andel kvinnor (%) | Andel män (%) |\n",
       "|---|---|---|---|---|\n",
       "| 191 | 229 | 420 | 45  | 55  |\n",
       "\n"
      ],
      "text/plain": [
       "  Antal kvinnor Antal män Totalt Andel kvinnor (%) Andel män (%)\n",
       "1 191           229       420    45                55           "
      ]
     },
     "metadata": {},
     "output_type": "display_data"
    }
   ],
   "source": [
    "riket <- df1 %>%\n",
    "summarize(\"Antal kvinnor\"=sum(Kön==\"K\", na.rm=TRUE), \n",
    "              \"Antal män\"=sum(Kön==\"M\", na.rm=TRUE), \n",
    "              \"Totalt\"=sum(Kön==\"K\"|Kön==\"M\", na.rm=TRUE)) %>% \n",
    "  mutate(`Andel kvinnor (%)`=round((`Antal kvinnor`/Totalt)*100), \n",
    "         `Andel män (%)`=round((`Antal män`/Totalt)*100))\n",
    "head(riket)"
   ]
  },
  {
   "cell_type": "markdown",
   "metadata": {},
   "source": [
    "**Sortera rådata efter län och kommun.**"
   ]
  },
  {
   "cell_type": "code",
   "execution_count": 36,
   "metadata": {},
   "outputs": [],
   "source": [
    "df1 <- arrange(df1, Län, Kommun)"
   ]
  },
  {
   "cell_type": "markdown",
   "metadata": {},
   "source": [
    "**Gör ny Excelfil med alla tabeller.**"
   ]
  },
  {
   "cell_type": "code",
   "execution_count": 40,
   "metadata": {},
   "outputs": [],
   "source": [
    "wb<-createWorkbook()\n",
    "\n",
    "addWorksheet(wb, \"Per län\")\n",
    "addWorksheet(wb, \"Per kommun\")\n",
    "addWorksheet(wb, \"Per parti\")\n",
    "addWorksheet(wb, \"Riket\")\n",
    "addWorksheet(wb, \"Rådata\")\n",
    "\n",
    "writeData(wb, sheet=\"Per län\", lan, startCol=1, startRow=5, rowNames=FALSE)\n",
    "writeData(wb, sheet=\"Per kommun\", kommun, startCol=1, startRow=5, rowNames=FALSE)\n",
    "writeData(wb, sheet=\"Per parti\", parti, startCol=1, startRow=5, rowNames=FALSE)\n",
    "writeData(wb, sheet=\"Riket\", riket, startCol=1, startRow=5, rowNames=FALSE)\n",
    "writeData(wb, sheet=\"Rådata\", df1, startCol=1, startRow=1, rowNames=FALSE)\n",
    "\n",
    "titleStyle <- createStyle(fontSize=15, halign=\"left\", textDecoration=\"bold\", numFmt=\"@\")\n",
    "titlecells <- expand.grid(row=1:3, col=1)\n",
    "\n",
    "addStyle(wb, \"Per län\", rows=titlecells$row, cols=titlecells$col, style=titleStyle)\n",
    "addStyle(wb, \"Per kommun\", rows=titlecells$row, cols=titlecells$col, style=titleStyle)\n",
    "addStyle(wb, \"Per parti\", rows=titlecells$row, cols=titlecells$col, style=titleStyle)\n",
    "addStyle(wb, \"Riket\", rows=titlecells$row, cols=titlecells$col, style=titleStyle)\n",
    "\n",
    "head1 <- c(\"Könsfördelningen bland EU-kandidaterna per län\", \"Källa: Valmyndigheten.\", \"Sorterat efter andel kvinnor.\")\n",
    "head2 <- c(\"Könsfördelningen bland EU-kandidaterna per kommun\", \"Källa: Valmyndigheten.\", \"Sorterat efter kommun i bokstavsordning.\")\n",
    "head3 <- c(\"Könsfördelningen bland EU-kandidaterna per parti\", \"Källa: Valmyndigheten.\", \"Sorterat efter andel kvinnor.\")\n",
    "head4 <- c(\"Könsfördelningen bland EU-kandidaterna\", \"Källa: Valmyndigheten.\")\n",
    "\n",
    "writeData(wb, sheet=\"Per län\", head1)\n",
    "writeData(wb, sheet=\"Per kommun\", head2)\n",
    "writeData(wb, sheet=\"Per parti\", head3)\n",
    "writeData(wb, sheet=\"Riket\", head4)\n",
    "\n",
    "headerStyle <- createStyle(fontSize=12, halign=\"left\", textDecoration=\"bold\")\n",
    "addStyle(wb, 1, headerStyle, rows=5, cols=1:6, gridExpand=TRUE)\n",
    "addStyle(wb, 2, headerStyle, rows=5, cols=1:6, gridExpand=TRUE)\n",
    "addStyle(wb, 3, headerStyle, rows=5, cols=1:6, gridExpand=TRUE)\n",
    "addStyle(wb, 4, headerStyle, rows=5, cols=1:5, gridExpand=TRUE)\n",
    "\n",
    "nrStyle <- createStyle(numFmt=\"0\")\n",
    "addStyle(wb, 1, style=nrStyle, cols=6, rows=6:296, gridExpand=TRUE)\n",
    "addStyle(wb, 2, style=nrStyle, cols=6, rows=6:296, gridExpand=TRUE)\n",
    "addStyle(wb, 3, style=nrStyle, cols=6, rows=6:296, gridExpand=TRUE)\n",
    "addStyle(wb, 4, style=nrStyle, cols=5, rows=6:296, gridExpand=TRUE)\n",
    "addStyle(wb, 5, style=nrStyle, cols=5, rows=6:296, gridExpand=TRUE)\n",
    "\n",
    "setColWidths(wb, sheet=1, cols=1:6, widths=\"25\", ignoreMergedCells=TRUE)\n",
    "setColWidths(wb, sheet=2, cols=1:6, widths=\"25\", ignoreMergedCells=TRUE)\n",
    "setColWidths(wb, sheet=3, cols=1:6, widths=\"25\", ignoreMergedCells=TRUE)\n",
    "setColWidths(wb, sheet=4, cols=1:6, widths=\"25\", ignoreMergedCells=TRUE)\n",
    "setColWidths(wb, sheet=5, cols=1:6, widths=\"25\", ignoreMergedCells=TRUE)\n",
    "\n",
    "saveWorkbook(wb, \"output/kandidatergender.xlsx\", overwrite=TRUE)"
   ]
  },
  {
   "cell_type": "code",
   "execution_count": null,
   "metadata": {},
   "outputs": [],
   "source": []
  }
 ],
 "metadata": {
  "kernelspec": {
   "display_name": "R",
   "language": "R",
   "name": "ir"
  },
  "language_info": {
   "codemirror_mode": "r",
   "file_extension": ".r",
   "mimetype": "text/x-r-source",
   "name": "R",
   "pygments_lexer": "r",
   "version": "3.5.1"
  }
 },
 "nbformat": 4,
 "nbformat_minor": 2
}
